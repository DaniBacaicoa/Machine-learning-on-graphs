{
 "cells": [
  {
   "cell_type": "markdown",
   "id": "incorporate-daily",
   "metadata": {},
   "source": [
    "# Machine learning with graphs\n",
    "\n",
    "## Assignment 2 (02/03/2021)\n",
    "\n",
    "Solution notebook for Homeworks proposed in the [MLG](http://jcid.webs.tsc.uc3m.es/machine-learning-group/) in the seminar of 2021 based on [Machine learning with graphs](http://snap.stanford.edu/class/cs224w-2019/) course by Standford university.\n",
    "\n",
    "    Author: Daniel Bacaicoa Barber (27 feb, 2021)\n",
    "    \n",
    "<font size=\"1\">This notebook may contain several errata. Use it at your own risk.</font>"
   ]
  },
  {
   "cell_type": "code",
   "execution_count": null,
   "id": "private-howard",
   "metadata": {},
   "outputs": [],
   "source": [
    "#Importing generic libraries.\n",
    "import numpy as np\n",
    "import pandas as pd\n",
    "import scipy \n",
    "\n",
    "# Graph related libraries \n",
    "import networkx as nx\n",
    "\n",
    "# Util libraries\n",
    "from collections import Counter, OrderedDict\n",
    "import itertools\n",
    "import random\n",
    "\n",
    "#Plotting library\n",
    "import matplotlib.pyplot as plt"
   ]
  },
  {
   "cell_type": "markdown",
   "id": "gross-comfort",
   "metadata": {},
   "source": [
    "### 1 Network Characteristics\n",
    "One of the goals of network analysis is to find mathematical models that characterize real-world\n",
    "networks and that can then be used to generate new networks with similar properties. In this\n",
    "problem, we will explore two famous models --Erdös-Rényi and Small World-- and compare them\n",
    "to real-world data from an academic collaboration network. Note that in this problem all networks\n",
    "are undirected. You may use the starter code in hw1-q1-starter.py for this problem."
   ]
  },
  {
   "cell_type": "markdown",
   "id": "internal-roberts",
   "metadata": {},
   "source": [
    "> Erdös-Rényi Random graph ($G(n,m)\\ random\\ network$): Generate a random instance of this\n",
    "model by using n = 5242 nodes and picking m = 14484 edges at random. Write code to\n",
    "construct instances of this model, i.e., do not call a SNAP function.\n"
   ]
  },
  {
   "cell_type": "markdown",
   "id": "organizational-inspiration",
   "metadata": {},
   "source": [
    "**Note**:\n",
    "\n",
    "The total number of edges in an *undirected* graph (with *self edges*) is computed as:\n",
    "\n",
    "$$E=\\frac{1}{2}\\sum_{i=1}^N\\sum_{\\substack{j=1\\\\j\\neq i}}^N A_{ij} \\left(+ \\sum_{i=1}^N A_{ij}\\right)$$\n",
    "\n",
    "which means that we have to select E values equal to 1 in the strictly upper triangular matrix (upper triangular matrix). Same with the lower matrix.\n"
   ]
  },
  {
   "cell_type": "code",
   "execution_count": null,
   "id": "daily-seattle",
   "metadata": {},
   "outputs": [],
   "source": [
    "def genErdosRenyi(N = 5242, E = 14484):\n",
    "    \"\"\"\n",
    "    :param - N: number of nodes\n",
    "    :param - E: number of edges\n",
    "\n",
    "    return type: nx.Graph (undirected_graph) \n",
    "    return: Erdos-Renyi graph with N nodes and E edges\n",
    "    \"\"\"\n",
    "    # Your code here\n",
    "\n",
    "    return Graph"
   ]
  },
  {
   "cell_type": "code",
   "execution_count": null,
   "id": "direct-trade",
   "metadata": {},
   "outputs": [],
   "source": [
    "# Toy example for verifying\n",
    "\n",
    "Toy_erdos = genErdosRenyi(N = 20, E = 10)\n",
    "print('Number of nodes in the toy Erdos-Renyi random graph is: %i'%Toy_erdos.number_of_nodes())\n",
    "print('Number of edges in the toy Erdos-Renyi random graph is: %i'%Toy_erdos.number_of_edges())\n",
    "nx.draw(Toy_erdos,with_labels=True)"
   ]
  },
  {
   "cell_type": "markdown",
   "id": "current-princeton",
   "metadata": {},
   "source": [
    "> Small-World Random Network: Generate an instance from this model as follows: begin with\n",
    "n = 5242 nodes arranged as a ring, i.e., imagine the nodes form a circle and each node is\n",
    "connected to its two direct neighbors (e.g., node 399 is connected to nodes 398 and 400),\n",
    "giving us 5242 edges. Next, connect each node to the neighbors of its neighbors (e.g., node\n",
    "399 is also connected to nodes 397 and 401). This gives us another 5242 edges. Finally,\n",
    "randomly select 4000 pairs of nodes not yet connected and add an edge between them. In\n",
    "total, this will make m = 5242 $\\cdot$ 2 + 4000 = 14484 edges. Write code to construct instances of\n",
    "this model, i.e., do not call a SNAP function.\n",
    "\n"
   ]
  },
  {
   "cell_type": "code",
   "execution_count": null,
   "id": "upset-desperate",
   "metadata": {},
   "outputs": [],
   "source": [
    "def genCircle(N = 5242):\n",
    "    \"\"\"\n",
    "    :param - N: number of nodes\n",
    "\n",
    "    return type: nx.Graph (undirected_graph)\n",
    "    return: Circle graph with N nodes and N edges. Imagine the nodes form a\n",
    "        circle and each node is connected to its two direct neighbors.\n",
    "    \"\"\"\n",
    "    # Your code here\n",
    "    \n",
    "    return Graph"
   ]
  },
  {
   "cell_type": "code",
   "execution_count": null,
   "id": "religious-launch",
   "metadata": {},
   "outputs": [],
   "source": [
    "# Toy example for verifying\n",
    "\n",
    "Toy_circle = genCircle(N = 20)\n",
    "print('Number of nodes in the toy circle graph is: %i'%Toy_circle.number_of_nodes())\n",
    "print('Number of edges in the toy circle graph is: %i'%Toy_circle.number_of_edges())\n",
    "nx.draw(Toy_circle,with_labels=True)"
   ]
  },
  {
   "cell_type": "code",
   "execution_count": null,
   "id": "civilian-brother",
   "metadata": {},
   "outputs": [],
   "source": [
    "def connectNbrOfNbr(Graph, N = 5242):\n",
    "    \"\"\"\n",
    "    :param - Graph: nx.Graph object representing a circle graph on N nodes\n",
    "    :param - N: number of nodes\n",
    "\n",
    "    return type: nx.Graph (undirected_graph)\n",
    "    return: Graph object with additional N edges added by connecting each node\n",
    "        to the neighbors of its neighbors\n",
    "    \"\"\"\n",
    "    # Your code here\n",
    "    \n",
    "    return Graph"
   ]
  },
  {
   "cell_type": "code",
   "execution_count": null,
   "id": "bulgarian-capital",
   "metadata": {},
   "outputs": [],
   "source": [
    "# Toy example for verifying\n",
    "Toy_NeigCirc = connectNbrOfNbr(Toy_circle, N = Toy_circle.number_of_nodes())\n",
    "print('Number of nodes in the toy neighbour circle graph is: %i'%Toy_NeigCirc.number_of_nodes())\n",
    "print('Number of edges in the toy neighbour circle graph is: %i'%Toy_NeigCirc.number_of_edges())\n",
    "nx.draw(Toy_NeigCirc,with_labels=True)"
   ]
  },
  {
   "cell_type": "code",
   "execution_count": null,
   "id": "inner-turkey",
   "metadata": {},
   "outputs": [],
   "source": [
    "def connectRandomNodes(Graph, M = 4000):\n",
    "    \"\"\"\n",
    "    :param - Graph: nx.Graph object representing an undirected graph\n",
    "    :param - M: number of edges to be added\n",
    "\n",
    "    return type: nx.Graph (undirected_graph)\n",
    "    return: Graph object with additional M edges added by connecting M randomly\n",
    "        selected pairs of nodes not already connected.\n",
    "    \"\"\"\n",
    "    # Your code here\n",
    "    \n",
    "    return Graph"
   ]
  },
  {
   "cell_type": "code",
   "execution_count": null,
   "id": "knowing-insight",
   "metadata": {},
   "outputs": [],
   "source": [
    "# Toy example for verifying\n",
    "\n",
    "Toy_RandCirc = connectRandomNodes(Toy_NeigCirc, M = 10)\n",
    "print('Number of nodes in the toy neighbour circle random graph is: %i'%Toy_RandCirc.number_of_nodes())\n",
    "print('Number of edges in the toy neighbour circle random graph is: %i'%Toy_RandCirc.number_of_edges())\n",
    "nx.draw(Toy_RandCirc,with_labels=True)"
   ]
  },
  {
   "cell_type": "code",
   "execution_count": null,
   "id": "federal-gathering",
   "metadata": {},
   "outputs": [],
   "source": [
    "def genSmallWorld(N = 5242, E = 14484):\n",
    "    \"\"\"\n",
    "    :param - N: number of nodes\n",
    "    :param - E: number of edges\n",
    "\n",
    "    return type: nx.Graph (undirected_graph)\n",
    "    return: Small-World graph with N nodes and E edges\n",
    "    \"\"\"\n",
    "    # Your code here\n",
    "\n",
    "    return Graph"
   ]
  },
  {
   "cell_type": "code",
   "execution_count": null,
   "id": "saved-gross",
   "metadata": {},
   "outputs": [],
   "source": [
    "# Toy example for verifying\n",
    "Toy_SmallWorld = genSmallWorld(N = 20, E = 41)\n",
    "print('Number of nodes in the toy Small-World random graph is: %i'%Toy_SmallWorld.number_of_nodes())\n",
    "print('Number of edges in the toy Small-World random graph is: %i'%Toy_SmallWorld.number_of_edges())\n",
    "nx.draw(Toy_SmallWorld,with_labels=True)\n",
    "print('All degrees shoud be 4 except for 2 nodes that should be 5')\n",
    "print('    Degrees are: ', list(dict(Toy_SmallWorld.degree()).values()))"
   ]
  },
  {
   "cell_type": "markdown",
   "id": "digital-recovery",
   "metadata": {},
   "source": [
    "> Real-World Collaboration Network: Download [this undirected network](http://snap.stanford.edu/data/ca-GrQc.txt.gz). Nodes in this network represent authors of research\n",
    "papers on the arXiv in the General Relativity and Quantum Cosmology section. There is\n",
    "an edge between two authors if they have co-authored at least one paper together. Note\n",
    "that some edges may appear twice in the data, once for each direction. Ignoring repeats and\n",
    "self-edges, there are 5242 nodes and 14484 edges. (Note: Repeats are automatically ignored\n",
    "when loading an (un)directed graph with SNAP's LoadEdgeList function)."
   ]
  },
  {
   "cell_type": "code",
   "execution_count": null,
   "id": "super-enzyme",
   "metadata": {},
   "outputs": [],
   "source": [
    "def loadCollabNet(path):\n",
    "    \"\"\"\n",
    "    :param - path: path to edge list file\n",
    "\n",
    "    return type: nx.Graph (undirected_graph)\n",
    "    return: Graph loaded from edge list at `path and self edges removed\n",
    "\n",
    "    Do not forget to remove the self edges!\n",
    "    \"\"\"\n",
    "    # Your code here\n",
    "    \n",
    "    return Graph"
   ]
  },
  {
   "cell_type": "markdown",
   "id": "phantom-pharmacy",
   "metadata": {},
   "source": [
    "#### 1.1 Degree Distribution\n",
    "Generate a random graph from both the Erdös-Rényi (i.e., $G(n,m)$) and Small-World models and\n",
    "read in the collaboration network. Delete all of the self-edges in the collaboration network (there\n",
    "should be 14,484 total edges remaining).\n",
    "\n",
    "Plot the degree distribution of all three networks in the same plot on a log-log scale. In other words,\n",
    "generate a plot with the horizontal axis representing node degrees and the vertical axis representing\n",
    "the proportion of nodes with a given degree (by \"log-log scale\" we mean that both the horizontal\n",
    "and vertical axis must be in logarithmic scale). \n",
    "\n",
    "In one to two sentences, describe one key difference\n",
    "between the degree distribution of the collaboration network and the degree distributions of the\n",
    "random graph models."
   ]
  },
  {
   "cell_type": "code",
   "execution_count": null,
   "id": "blond-capability",
   "metadata": {},
   "outputs": [],
   "source": [
    "def getDataPointsToPlot(Graph):\n",
    "    \"\"\"\n",
    "    :param - Graph: nx.Graph object representing an undirected graph\n",
    "\n",
    "    return values:\n",
    "    X: list of degrees\n",
    "    Y: list of frequencies: Y[i] = fraction of nodes with degree X[i]\n",
    "    \"\"\"\n",
    "    # Your code here\n",
    "    \n",
    "    return X, Y"
   ]
  },
  {
   "cell_type": "markdown",
   "id": "helpful-mounting",
   "metadata": {},
   "source": [
    "The code for plotting the degree distribution."
   ]
  },
  {
   "cell_type": "code",
   "execution_count": null,
   "id": "strong-knock",
   "metadata": {},
   "outputs": [],
   "source": [
    "def Q1_1():\n",
    "    \"\"\"\n",
    "    Code for HW1 Q1.1\n",
    "    \"\"\"\n",
    "    global erdosRenyi, smallWorld, collabNet\n",
    "    erdosRenyi = genErdosRenyi(5242, 14484)\n",
    "    smallWorld = genSmallWorld(5242, 14484)\n",
    "    collabNet = loadCollabNet(\"ca-GrQc.txt\")\n",
    "\n",
    "    x_erdosRenyi, y_erdosRenyi = getDataPointsToPlot(erdosRenyi)\n",
    "    plt.loglog(x_erdosRenyi, y_erdosRenyi, color = 'y', label = 'Erdos Renyi Network')\n",
    "\n",
    "    x_smallWorld, y_smallWorld = getDataPointsToPlot(smallWorld)\n",
    "    plt.loglog(x_smallWorld, y_smallWorld, linestyle = 'dashed', color = 'r', label = 'Small World Network')\n",
    "\n",
    "    x_collabNet, y_collabNet = getDataPointsToPlot(collabNet)\n",
    "    plt.loglog(x_collabNet, y_collabNet, linestyle = 'dotted', color = 'b', label = 'Collaboration Network')\n",
    "\n",
    "    plt.xlabel('Node Degree (log)')\n",
    "    plt.ylabel('Proportion of Nodes with a Given Degree (log)')\n",
    "    plt.title('Degree Distribution of Erdos Renyi, Small World, and Collaboration Networks')\n",
    "    plt.legend()\n",
    "    plt.show()"
   ]
  },
  {
   "cell_type": "code",
   "execution_count": null,
   "id": "raising-knowing",
   "metadata": {},
   "outputs": [],
   "source": [
    "# Execute code for Q1.1\n",
    "Q1_1()"
   ]
  },
  {
   "cell_type": "markdown",
   "id": "ethical-mouth",
   "metadata": {},
   "source": [
    "In one to two sentences, describe one key difference between the degree distribution of the collaboration network and the degree distributions of the\n",
    "random graph models."
   ]
  },
  {
   "cell_type": "markdown",
   "id": "fabulous-checkout",
   "metadata": {},
   "source": [
    "Your answer:"
   ]
  },
  {
   "cell_type": "markdown",
   "id": "about-vintage",
   "metadata": {},
   "source": [
    "#### 1.2 Clustering Coefficient\n",
    "Recall that the local clustering coefficient for a node vi was defined in class as\n",
    "\n",
    "$$ C_i = \\begin{cases}\\frac{2|e_i|}{k_i\\cdot(k_i-1)} & k_i \\geq 2 \\\\\n",
    "0 & \\mathrm{otherwise}\\end{cases}$$\n",
    "\n",
    "where $k_i$ is the degree of node $v_i$ and $e_i$ is the number of edges between the neighbors of $v_i$. The\n",
    "*average clustering coefficient* is defined as\n",
    "\n",
    "$$C=\\frac{1}{|V|}\\sum_{i\\in V}C_i$$\n",
    "\n",
    "Compute and report the average clustering coefficient of the three networks. For this question,\n",
    "write your own implementation to compute the clustering coefficient, instead of using a built-in\n",
    "SNAP function.\n",
    "\n",
    "Which network has the largest clustering coefficient? In one to two sentences, explain. Think about\n",
    "the underlying process that generated the network."
   ]
  },
  {
   "cell_type": "code",
   "execution_count": null,
   "id": "undefined-description",
   "metadata": {},
   "outputs": [],
   "source": [
    "def calcClusteringCoefficientSingleNode(Node, Graph):\n",
    "    \"\"\"\n",
    "    :param - Node: node from nx.Graph object. Graph.Nodes() will give an\n",
    "                   iterable of nodes in a graph\n",
    "    :param - Graph: nx.Graph object representing an undirected graph\n",
    "\n",
    "    return type: float\n",
    "    returns: local clustering coeffient of Node\n",
    "    \"\"\"\n",
    "    # Your code here \n",
    "    C = 0.0\n",
    "    \n",
    "\n",
    "    return C"
   ]
  },
  {
   "cell_type": "code",
   "execution_count": null,
   "id": "nervous-definition",
   "metadata": {},
   "outputs": [],
   "source": [
    "def calcClusteringCoefficient(Graph):\n",
    "    \"\"\"\n",
    "    :param - Graph: nx.Graph object representing an undirected graph\n",
    "\n",
    "    return type: float\n",
    "    returns: clustering coeffient of Graph\n",
    "    \"\"\"\n",
    "    # Your code here! If you filled out calcClusteringCoefficientSingleNode,\n",
    "    #       you'll probably want to call it in a loop here\n",
    "    C = 0.0\n",
    "\n",
    "    return C\n"
   ]
  },
  {
   "cell_type": "code",
   "execution_count": null,
   "id": "mature-guitar",
   "metadata": {},
   "outputs": [],
   "source": [
    "def Q1_2():\n",
    "    \"\"\"\n",
    "    Code for Q1.2\n",
    "    \"\"\"\n",
    "    C_erdosRenyi = calcClusteringCoefficient(erdosRenyi)\n",
    "    C_smallWorld = calcClusteringCoefficient(smallWorld)\n",
    "    C_collabNet = calcClusteringCoefficient(collabNet)\n",
    "\n",
    "    print('Clustering Coefficient for Erdos Renyi Network: %f' % C_erdosRenyi)\n",
    "    print('Clustering Coefficient for Small World Network: %f' % C_smallWorld)\n",
    "    print('Clustering Coefficient for Collaboration Network: %f' % C_collabNet)"
   ]
  },
  {
   "cell_type": "code",
   "execution_count": null,
   "id": "graphic-beauty",
   "metadata": {},
   "outputs": [],
   "source": [
    "# Execute code for Q1.2\n",
    "Q1_2()"
   ]
  },
  {
   "cell_type": "markdown",
   "id": "promising-storm",
   "metadata": {},
   "source": [
    "Which network has the largest clustering coefficient? In one to two sentences, explain. Think about\n",
    "the underlying process that generated the network."
   ]
  },
  {
   "cell_type": "markdown",
   "id": "moderate-islam",
   "metadata": {},
   "source": [
    "Your answer:"
   ]
  }
 ],
 "metadata": {
  "kernelspec": {
   "display_name": "Python 3",
   "language": "python",
   "name": "python3"
  },
  "language_info": {
   "codemirror_mode": {
    "name": "ipython",
    "version": 3
   },
   "file_extension": ".py",
   "mimetype": "text/x-python",
   "name": "python",
   "nbconvert_exporter": "python",
   "pygments_lexer": "ipython3",
   "version": "3.9.1"
  }
 },
 "nbformat": 4,
 "nbformat_minor": 5
}
