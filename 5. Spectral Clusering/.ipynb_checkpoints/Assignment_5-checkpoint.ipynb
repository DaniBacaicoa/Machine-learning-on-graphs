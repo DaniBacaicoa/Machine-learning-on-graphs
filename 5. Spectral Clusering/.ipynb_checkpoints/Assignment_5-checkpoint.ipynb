{
 "cells": [
  {
   "cell_type": "markdown",
   "id": "jewish-consent",
   "metadata": {},
   "source": [
    "# Machine learning with graphs\n",
    "\n",
    "## Assignment 5 (07/04/2021)\n",
    "\n",
    "Solution notebook for Homeworks proposed in the MLG in the seminar of 2021 based on Machine learning with graphs course by Standford university.\n"
   ]
  },
  {
   "cell_type": "code",
   "execution_count": 1,
   "id": "assumed-owner",
   "metadata": {},
   "outputs": [],
   "source": [
    "#Importing generic libraries.\n",
    "import numpy as np\n",
    "import pandas as pd\n",
    "import scipy \n",
    "\n",
    "# Graph related libraries \n",
    "import networkx as nx\n",
    "\n",
    "# Util libraries\n",
    "from collections import Counter, OrderedDict\n",
    "import itertools\n",
    "import random\n",
    "\n",
    "#Plotting library\n",
    "import matplotlib.pyplot as plt"
   ]
  },
  {
   "cell_type": "code",
   "execution_count": 27,
   "id": "selected-ridge",
   "metadata": {},
   "outputs": [],
   "source": [
    "# pip install python-louvain # if you have it installed keep the comment\n",
    "import community as community"
   ]
  },
  {
   "cell_type": "markdown",
   "id": "faced-recycling",
   "metadata": {},
   "source": [
    "### 4 Spectral clustering\n",
    "\n",
    "This question derives a spectral clustering algorithm that we then use to analyze a real-world\n",
    "dataset. These algorithms use eigenvectors of matrices associated with the graph. You may find\n",
    "this handout https://bit.ly/2l0dXCL on graph clustering to be useful for additional background\n",
    "information."
   ]
  },
  {
   "cell_type": "markdown",
   "id": "light-claim",
   "metadata": {},
   "source": [
    "Let's first discuss some notation:\n",
    "\n",
    "- Let $G = (V,E)$ be a simple (that is, no self- or multi- edges) undirected, connected graph with $n = \\vert V \\vert$ and $m = \\vert E \\vert$.\n",
    "- $A$ is the adjacency matrix of the graph $G$, i.e., $A_{ij}$ is equal to 1 if $(i, j) \\in E$ and equal to 0 otherwise.\n",
    "- $D$ is the diagonal matrix of degrees: $D_{ii} = \\sum_{j} A_{ij} = $ the degree of node i.\n",
    "- We define the graph Laplacian of $G$ by $L = D - A$."
   ]
  },
  {
   "cell_type": "markdown",
   "id": "identified-newport",
   "metadata": {},
   "source": [
    "For a set of nodes $S \\subset V$, we will measure the quality of S as a cluster with a 'cut' value and a 'volume' value. We define the cut of the set $S$ to be the number of edges that have one end point in S and one end point in the complement set $\\tilde{S} = V \\setminus S$:\n",
    "\n",
    "$$cut(S) = \\sum_{i\\in S,j \\in \\tilde{S}} A_{ij}$$\n",
    "\n",
    "Note that the cut is symmetric in the sense that $cut(S) = cut(\\tilde{S})$. The volume of $S$ is simply the\n",
    "sum of degrees of nodes in $S$:\n",
    "\n",
    "$$vol(S) = \\sum_{i\\in S} d_i$$\n",
    "where di is the degree of node i."
   ]
  },
  {
   "cell_type": "markdown",
   "id": "valid-ability",
   "metadata": {},
   "source": [
    "#### 4.1 A Spectral Algorithm for Normalized Cut Minimization: Foundations\n",
    "\n",
    "We will try to find a set $S$ with a small normalized cut value:\n",
    "\n",
    "$$NCUT(S) =\\frac{cut(S)}{vol(S)}+\\frac{cut(\\tilde{S})}{vol(\\tilde{S})}$$\n",
    "\n",
    "Intuitively, a set $S$ with a small normalized cut value must have few edges connecting to the rest of the graph (making the numerators small) as well as some balance in the size of the clusters (making the denominators large).\n",
    "\n",
    "Define the assignment vector $x$ for some set of nodes $S$ such that\n",
    "$$x_i = \\begin{cases} \\sqrt{\\frac{vol(\\tilde{S})}{vol(S)}} & i\\in S\\\\\n",
    "-\\sqrt{\\frac{vol(S)}{vol(\\tilde{S})}} & i\\in \\tilde{S}\n",
    "\\end{cases}\\qquad \\qquad (4)$$\n"
   ]
  },
  {
   "cell_type": "markdown",
   "id": "legitimate-recruitment",
   "metadata": {},
   "source": [
    "Prove the properties below.\n",
    "\n",
    "Note: There are many ways to prove the following properties, and we provide some hints for one\n",
    "of the ways. You do not necessarily need to use the provided hints for your proof.\n",
    "\n",
    "1. $L = \\sum_{(i,j)\\in E} (e_i-e_j)(e_i-e_j)^T$, where $e_k$ is an n-dimensional column vector with a 1 at position k and 0's elsewhere. Note that we aren't summing over the entire adjacency matrix and only count each edge once.\n",
    "2. $x^T L x = \\sum_{(i,j)\\in E} (x_i-x_j)^2$ *Hint: Apply the result from part (i)*.\n",
    "3. $x^T L x = c\\cdot NCUT(S)$ for some constant $c$ (in terms of the problem parameters). *Hint: Rewrite the sum in terms of S and $\\tilde{S}$*.\n",
    "4. $x^TDe = 0$, where e is the vector of all ones.\n",
    "5. $x^TDx = 2m$."
   ]
  },
  {
   "cell_type": "markdown",
   "id": "alike-trick",
   "metadata": {},
   "source": [
    "#### 4.2 Normalized Cut Minimization: Solving for the Minimizer\n",
    "\n",
    "Since $x^TDx$ is just a constant ($2m$), we can formulate the normalized cut minimization problem in the following way:\n",
    "\n",
    "$$\\begin{aligned} & minimize_{S\\subset V; x\\in \\mathbb{R}^n}\\ \\frac{x^TLx}{x^TDx}\\\\\n",
    "& subject\\ to\\ x^TDe = 0; x^TDx = 2m; x \\mathrm{\\ as\\ in\\ Equation\\ 4}\n",
    "\\end{aligned}$$\n",
    "\n",
    "\n",
    "The constraint that x takes the form of Equation 4 makes the optimization problem NP-hard.\n",
    "We will instead use the 'relax and round' technique where we relax the problem to make the\n",
    "optimization problem tractable and then round the relaxed solution back to a feasible point for\n",
    "the original problem. Our relaxed problem will eliminate the constraint that x take the form of\n",
    "Equation 4 which leads to the following relaxed problem:\n",
    "\n",
    "$$\\begin{aligned} & minimize_{S\\subset V; x\\in \\mathbb{R}^n}\\ \\frac{x^TLx}{x^TDx}\\\\\n",
    "& subject\\ to\\ x^TDe = 0; x^TDx = 2m\n",
    "\\end{aligned}\\qquad \\qquad (6)$$\n",
    "\n",
    "Show that the minimizer of Equation 6 is $D^{-1/2}v$, where $v$ is the eigenvector corresponding to the\n",
    "second smallest eigenvalue of the normalized graph Laplacian $\\tilde{L} = D^{-1/2}LD^{-1/2}$. Finally, to round\n",
    "the solution back to a feasible point in the original problem, we can take the indices of all positive\n",
    "entries of the eigenvector to be the set S and the indices of all negative entries to be $\\tilde{S}$.\n",
    "\n",
    "*Hint 1: Make the substitution $z = D^{1/2}x$*.\n",
    "\n",
    "*Hint 2: Note that e is the eigenvector corresponding to the smallest eigenvalue of L*.\n",
    "\n",
    "*Hint 3: The normalized graph Laplacian $\\tilde{L}$ is symmetric, so its eigenvectors are orthonormal and\n",
    "form a basis for $\\mathbb{R}^n$. This means we can write any vector x as a linear combination of orthonormal\n",
    "eigenvectors of $\\tilde{L}$*."
   ]
  },
  {
   "cell_type": "markdown",
   "id": "preliminary-doubt",
   "metadata": {},
   "source": [
    "#### 4.3 Relating Modularity to Cuts and Volumes\n",
    "\n",
    "In Problem 3, we presented the modularity of a graph clustering in the context of the Louvain\n",
    "Algorithm. Modularity actually relates to cuts and volumes as well. Let's consider a partitioning\n",
    "of our graph A into 2 clusters, and let $y \\in \\lbrace 1,-1\\rbrace^n$ be an assignment vector for a set S:\n",
    "\n",
    "$$yi = \\begin{cases} 1 & \\mathrm{if\\ }i \\in S\\\\\n",
    "-1 & \\mathrm{if\\ }i \\in \\tilde{S}\\\\\n",
    "\\end{cases}\\qquad \\qquad (7)$$\n",
    "\n",
    "Then, the modularity of the assignment $y$ is\n",
    "\n",
    "$$Q(y) = \\frac{1}{2m}\\sum_{1\\leq i,j\\leq n}\\left[A_{ij}-\\frac{d_id_j}{2m}\\right] I_{y_i=y_j}$$\n",
    "\n",
    "Let $y$ be the assignment vector in Equation 7. Prove that\n",
    "\n",
    "$$Q(y) = \\frac{1}{2m}\\left( -2\\cdot cut(S) + \\frac{1}{m}vol(S)\\cdot vol(\\tilde{S}) \\right)$$\n",
    "\n",
    "Thus, maximizing modularity is really just minimizing the sum of the cut and the negative product\n",
    "of the partition's volumes. As a result, we can use spectral algorithms similar to the one derived\n",
    "in parts 1-2 in order to find a clustering that maximizes modularity. While this might provide an\n",
    "intuitively 'better' clustering after inspection than the Louvain Algorithm, spectral algorithms are\n",
    "computationally intensive on large graphs, and would only partition the graph into 2 clusters.\n",
    "\n",
    "*Note:* You only need to prove the relationship between modularity and cuts; you do not need to\n",
    "derive the actual spectral algorithm."
   ]
  },
  {
   "cell_type": "code",
   "execution_count": null,
   "id": "compressed-burning",
   "metadata": {},
   "outputs": [],
   "source": []
  },
  {
   "cell_type": "code",
   "execution_count": null,
   "id": "large-statistics",
   "metadata": {},
   "outputs": [],
   "source": []
  }
 ],
 "metadata": {
  "kernelspec": {
   "display_name": "Python 3",
   "language": "python",
   "name": "python3"
  },
  "language_info": {
   "codemirror_mode": {
    "name": "ipython",
    "version": 3
   },
   "file_extension": ".py",
   "mimetype": "text/x-python",
   "name": "python",
   "nbconvert_exporter": "python",
   "pygments_lexer": "ipython3",
   "version": "3.9.2"
  }
 },
 "nbformat": 4,
 "nbformat_minor": 5
}
