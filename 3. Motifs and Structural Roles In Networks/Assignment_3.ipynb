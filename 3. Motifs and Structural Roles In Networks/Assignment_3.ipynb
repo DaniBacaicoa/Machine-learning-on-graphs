{
 "cells": [
  {
   "cell_type": "markdown",
   "id": "incorporate-daily",
   "metadata": {},
   "source": [
    "# Machine learning with graphs\n",
    "\n",
    "## Assignment 3 (16/03/2021)\n",
    "\n",
    "Solution notebook for Homeworks proposed in the [MLG](http://jcid.webs.tsc.uc3m.es/machine-learning-group/) in the seminar of 2021 based on [Machine learning with graphs](http://snap.stanford.edu/class/cs224w-2019/) course by Standford university.\n",
    "\n",
    "    Author: Daniel Bacaicoa Barber (13 mar, 2021)\n"
   ]
  },
  {
   "cell_type": "code",
   "execution_count": null,
   "id": "private-howard",
   "metadata": {},
   "outputs": [],
   "source": [
    "#Importing generic libraries.\n",
    "import numpy as np\n",
    "import pandas as pd\n",
    "import scipy \n",
    "\n",
    "# Graph related libraries \n",
    "import networkx as nx\n",
    "\n",
    "# Util libraries\n",
    "from collections import Counter, OrderedDict\n",
    "import itertools\n",
    "import random\n",
    "\n",
    "#Plotting library\n",
    "import matplotlib.pyplot as plt"
   ]
  },
  {
   "cell_type": "markdown",
   "id": "gross-comfort",
   "metadata": {},
   "source": [
    "### 2 Structural Roles: Rolx and ReFex\n",
    "\n",
    "In this problem, we will explore the structural role extraction algorithm Rolx and its recursive feature extraction method ReFex. As part of this exploration, we will work with a dataset representing a scientist co-authorship network, which can be dowloaded at http://www-personal.umich.edu/~mejn/netdata/netscience.zip. \n",
    "> <font size=\"1\">We provide a binary file named hw1-q2.graph for you to directly load into snap by\n",
    "'''G = snap.TUNGraph.Load(snap.TFIn(\"hw1-q2.graph\"))'''. You are welcome to either use this file or load from raw\n",
    "data yourself.</font>\n",
    "\n",
    "Although the graph is weighted, for simplicity we treat it as **undirected and unweighted** in this problem.\n",
    "\n",
    "\n",
    "Feature extraction consists of two steps; we first extract basic local features from every node, and we subsequently aggregate them along graph edges so that global features are also obtained.\n",
    "\n",
    "Collectively, feature extraction constructs a matrix $V \\in \\mathbb{R}^{n\\times f}$ where for each of the n nodes we have $f$ features to cover local and global information. RolX extracts node roles from that matrix."
   ]
  },
  {
   "cell_type": "markdown",
   "id": "thermal-measure",
   "metadata": {},
   "source": [
    "#### 2.1 Basic Features\n",
    "\n",
    "We begin by loading the graph G provided in the bundle and computing three basic features for the nodes. For each node $v$, we choose 3 basic local features (in this order):"
   ]
  },
  {
   "cell_type": "markdown",
   "id": "bizarre-radar",
   "metadata": {},
   "source": [
    "1. The degree of $v$, i.e., deg($v$)"
   ]
  },
  {
   "cell_type": "code",
   "execution_count": null,
   "id": "deluxe-bulgarian",
   "metadata": {},
   "outputs": [],
   "source": [
    "#Your code here"
   ]
  },
  {
   "cell_type": "markdown",
   "id": "sensitive-somalia",
   "metadata": {},
   "source": [
    "2. The number of edges in the egonet of $v$, where egonet of $v$ is defined as the subgraph of $G$ induced by $v$ and its neighborhood."
   ]
  },
  {
   "cell_type": "code",
   "execution_count": null,
   "id": "incident-focus",
   "metadata": {},
   "outputs": [],
   "source": [
    "#Your code here"
   ]
  },
  {
   "cell_type": "markdown",
   "id": "lonely-metallic",
   "metadata": {},
   "source": [
    "3. The number of edges that connect the egonet of $v$ and the rest of the graph, i.e., the number of edges that enter or leave the egonet of $v$."
   ]
  },
  {
   "cell_type": "code",
   "execution_count": null,
   "id": "assisted-resort",
   "metadata": {},
   "outputs": [],
   "source": [
    "#Your code here"
   ]
  },
  {
   "cell_type": "markdown",
   "id": "upper-richardson",
   "metadata": {},
   "source": [
    "We use $\\tilde{V}_u$ to represent the vector of the basic features of node $u$. For any pair of nodes $u$ and $v$, we can use cosine similarity to measure how similar two nodes are according to their feature vectors $x$ and $y$:\n",
    "\n",
    "$$Sim(x, y) = \\dfrac{x\\cdot y}{\\Vert x \\Vert_2 \\cdot \\Vert y \\Vert_2} = \\dfrac{\\sum_{i}x_iy_i}{\\sqrt{\\sum_{i}x_i^2} \\cdot \\sqrt{\\sum_{i}y_i^2}} $$ \n",
    "\n",
    "Also, when $\\Vert x \\Vert_2 = 0$ or $\\Vert y \\Vert_2 = 0$, we defined $Sim(x, y) = 0$"
   ]
  },
  {
   "cell_type": "code",
   "execution_count": null,
   "id": "animal-education",
   "metadata": {},
   "outputs": [],
   "source": [
    "#Your code here"
   ]
  },
  {
   "cell_type": "markdown",
   "id": "premium-excellence",
   "metadata": {},
   "source": [
    "Compute the basic feature vector for the node with ID 9, and report the top 5 nodes that are most similar to node 9 (excluding node 9). As a sanity check, no element in $\\tilde{V}_9$ is larger than 10."
   ]
  },
  {
   "cell_type": "code",
   "execution_count": 1,
   "id": "chief-drill",
   "metadata": {},
   "outputs": [],
   "source": [
    "#Your code here"
   ]
  },
  {
   "cell_type": "markdown",
   "id": "shared-overview",
   "metadata": {},
   "source": [
    "#### 2.2 Recursive Features\n",
    "\n",
    "In this next step, we recursively generate some more features. We use mean and sum as aggregation functions."
   ]
  },
  {
   "cell_type": "markdown",
   "id": "resident-aircraft",
   "metadata": {},
   "source": [
    "Initially, we have a feature vector $\\tilde{V}_u \\in \\mathbb{R}^3$ for every node $u$. In the first iteration, we concatenate\n",
    "the mean of all $u$'s neighbors' feature vectors to $\\tilde{V}_u$, and do the same for *sum*, i.e.,\n",
    "\n",
    "$$\\tilde{V}_u^{(1)}=\\left[\\tilde{V}_u;\\ \\frac{1}{\\vert N(u) \\vert}\\sum_{v\\in N(u)} \\tilde{V}_u;\\ \\sum_{v\\in N(u)}\\tilde{V}_u \\right]\\in \\mathbb{R}^9 $$\n",
    "where $N(u)$ is the set of $u$'s neighbors in the graph. If $N(u) = \\emptyset$, set the mean and sum to 0.\n",
    "\n"
   ]
  },
  {
   "cell_type": "code",
   "execution_count": null,
   "id": "ambient-shopper",
   "metadata": {},
   "outputs": [],
   "source": [
    "def Recursive_features(V_0):\n",
    "    '''\n",
    "    input:  V_u^(k) of dimension (n, 3^(k+1))\n",
    "    output: V_u^(k+1) of dimension (n, 3^(k+2))\n",
    "    '''\n",
    "    \n",
    "    #Your code here"
   ]
  },
  {
   "cell_type": "markdown",
   "id": "rolled-writing",
   "metadata": {},
   "source": [
    "After $K$ iterations, we obtain the overall feature matrix $V = \\tilde{V}_u^{(K)} \\in \\mathbb{R}^{3^{K+1}}$.\n",
    "\n",
    "For this exercise, run $K = 2$ iterations, and report the top 5 nodes that are most similar to node 9 (excluding node 9). If there are ties, e.g. 4th, 5th, and 6th have the same similarity, report any of them to fill up the top-5 ranking. As a sanity check, the similarities between the reported nodes and node 9 are all greater than 0.9."
   ]
  },
  {
   "cell_type": "code",
   "execution_count": null,
   "id": "dedicated-history",
   "metadata": {},
   "outputs": [],
   "source": [
    "#Your code here"
   ]
  },
  {
   "cell_type": "markdown",
   "id": "smart-privacy",
   "metadata": {},
   "source": [
    "Compare your obtained top 5 nodes with previous results from 2.1. In particular, are there common\n",
    "nodes? Are there different nodes? In one sentence, why would this change?"
   ]
  },
  {
   "cell_type": "markdown",
   "id": "super-variance",
   "metadata": {},
   "source": []
  },
  {
   "cell_type": "markdown",
   "id": "fiscal-graduation",
   "metadata": {},
   "source": [
    "#### 2.3 Role Discovery\n",
    "\n",
    "In this part, we explore more about the graph according to the recursive feature vectors of nodes and node similarity."
   ]
  },
  {
   "cell_type": "markdown",
   "id": "meaningful-twins",
   "metadata": {},
   "source": [
    "> (a) Produce a 20-bin histogram to show the distribution of cosine similarity between node 9 and any other node in the graph (according to their recursive feature vectors). Note here that the x-axis is cosine similarity with node 9, and the y-axis is the number of nodes."
   ]
  },
  {
   "cell_type": "code",
   "execution_count": null,
   "id": "neural-climate",
   "metadata": {},
   "outputs": [],
   "source": [
    "#Your code here"
   ]
  },
  {
   "cell_type": "markdown",
   "id": "comparable-infection",
   "metadata": {},
   "source": [
    "According to the histogram, can you spot some groups / roles? How many can you spot? (Clue:\n",
    "look for the spikes! )"
   ]
  },
  {
   "cell_type": "markdown",
   "id": "asian-rogers",
   "metadata": {},
   "source": []
  },
  {
   "cell_type": "markdown",
   "id": "removable-transaction",
   "metadata": {},
   "source": [
    "> (b) For these groups / roles in the cosine similarity histogram, take one node $u$ from each group to examine the feature vector, and draw the subgraph of the node based on its feature vector. You can draw the subgraph by hand, or you can use libraries such as networkx or graphviz.\n",
    "\n",
    "For these drawings, you should use the local features for $u$, and pay attention to the features aggregated from its 1-hop neighbors, but feel free to ignore further features if they are difficult to incorporate. Also, you should not draw nodes that are more than 3-hops away from $u$."
   ]
  },
  {
   "cell_type": "code",
   "execution_count": null,
   "id": "threatened-mason",
   "metadata": {},
   "outputs": [],
   "source": [
    "#Your code here"
   ]
  },
  {
   "cell_type": "markdown",
   "id": "headed-leader",
   "metadata": {},
   "source": [
    "Briefly argue how different structural roles are captured in 1-2 sentences."
   ]
  },
  {
   "cell_type": "markdown",
   "id": "passing-aberdeen",
   "metadata": {},
   "source": []
  }
 ],
 "metadata": {
  "kernelspec": {
   "display_name": "Python 3",
   "language": "python",
   "name": "python3"
  },
  "language_info": {
   "codemirror_mode": {
    "name": "ipython",
    "version": 3
   },
   "file_extension": ".py",
   "mimetype": "text/x-python",
   "name": "python",
   "nbconvert_exporter": "python",
   "pygments_lexer": "ipython3",
   "version": "3.9.2"
  }
 },
 "nbformat": 4,
 "nbformat_minor": 5
}
