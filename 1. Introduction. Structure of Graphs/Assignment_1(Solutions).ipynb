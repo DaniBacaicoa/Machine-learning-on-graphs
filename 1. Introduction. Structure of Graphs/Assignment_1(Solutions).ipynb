{
 "cells": [
  {
   "cell_type": "markdown",
   "metadata": {
    "pycharm": {
     "name": "#%% md\n"
    }
   },
   "source": [
    "# Machine learning with graphs\n",
    "\n",
    "## Homework 1\n",
    "\n",
    "Solution notebook for Homeworks proposed in the [MLG](http://jcid.webs.tsc.uc3m.es/machine-learning-group/) in the seminar of 2021 based on [Machine learning with graphs](http://snap.stanford.edu/class/cs224w-2019/) course by Standford university.\n",
    "\n",
    "    Author: Daniel Bacaicoa Barber (23 feb, 2021)\n",
    "    \n",
    "<font size=\"1\">This notebook may contain several errata. Use it at your own risk.</font>\n"
   ]
  },
  {
   "cell_type": "markdown",
   "metadata": {},
   "source": [
    "We will give different solutions to problems (when possible) using different libraries. \n",
    "\n",
    "1. **Using Snap.py**\n",
    "    M. Culler, N. M. Dunfield, M. Goerner, and J. R. Weeks, SnapPy, a computer program for studying the geometry and topology of 3-manifolds, http://snappy.computop.org\n",
    "\n",
    "2. **Using NetworkX**\n",
    "    Aric A. Hagberg, Daniel A. Schult and Pieter J. Swart, “Exploring network structure, dynamics, and function using NetworkX”, in Proceedings of the 7th Python in Science Conference (SciPy2008), Gäel Varoquaux, Travis Vaught, and Jarrod Millman (Eds), (Pasadena, CA USA), pp. 11–15, Aug 2008\n",
    "    \n",
    "3. **Using the adjacency matrix**\n",
    "\n",
    "\n"
   ]
  },
  {
   "cell_type": "code",
   "execution_count": 1,
   "metadata": {},
   "outputs": [],
   "source": [
    "#Importing generic libraries.\n",
    "import numpy as np\n",
    "import pandas as pd\n",
    "import scipy \n",
    "\n",
    "# Graph related libraries \n",
    "import snap\n",
    "import networkx as nx\n",
    "\n",
    "# Util library\n",
    "from collections import Counter, OrderedDict\n",
    "\n",
    "#Plotting library\n",
    "import matplotlib.pyplot as plt"
   ]
  },
  {
   "cell_type": "markdown",
   "metadata": {
    "pycharm": {
     "name": "#%% md\n"
    }
   },
   "source": [
    "### Question 1. Analyzing the Wikipedia voters network\n",
    "\n",
    "Download the Wikipedia voting network [wiki-Vote.txt.gz](http://snap.stanford.edu/data/wiki-Vote.html).\n",
    "\n",
    "Using one of the network analysis tools above, load the Wikipedia voting network. Note that\n",
    "Wikipedia is a directed network. Formally, we consider the Wikipedia network as a directed\n",
    "graph $G = (V,E)$, with node set $V$ and edge set $E \\subset V \\times V$ where (edges are ordered pairs\n",
    "of nodes). An edge $(a, b) \\in E$ means that user $a$ voted on user $b$.\n",
    "\n",
    "To make our questions clearer, we will use the following small graph as a running example:\n",
    "$G_{small} = (V_{small}, E_{small})$, where $V_{small} = \\{1, 2, 3\\}$ and $E_{small} = \\{(1, 2), (2, 1), (1, 3), (1, 1)\\}$.\n",
    "\n",
    "Compute and print out the following statistics for the **wiki-Vote** network:"
   ]
  },
  {
   "cell_type": "code",
   "execution_count": 2,
   "metadata": {},
   "outputs": [],
   "source": [
    "#Loading data in Snap\n",
    "#Using the function 'LoadEdgeList'\n",
    "# LoadEdgeList(GraphType, InFNm, SrcColId=0, DstColId=1, Separator=' ')\n",
    "#  GraphType: graph class   -- Class of output graph – one of TNGraph, TNEANet, or TUNGraph.\n",
    "#  InFNm: string            -- Filename with the description of the graph edges.\n",
    "#  (optional) SrcColId: int -- The column number in the file, which contains the node id representing the source vertex.\n",
    "#  (optional) DstColId: int -- The column number in the file, which contains the node id representing the destination vertex\n",
    "\n",
    "wiki_graph_sn = snap.LoadEdgeList(snap.TNGraph, \"Wiki-Vote.txt\", 0, 1)"
   ]
  },
  {
   "cell_type": "code",
   "execution_count": 3,
   "metadata": {},
   "outputs": [],
   "source": [
    "#Loading data in NetworkX\n",
    "wiki_graph_nx = nx.read_edgelist(\"Wiki-Vote.txt\",create_using = nx.DiGraph(), nodetype = int)"
   ]
  },
  {
   "cell_type": "code",
   "execution_count": 4,
   "metadata": {},
   "outputs": [
    {
     "name": "stdout",
     "output_type": "stream",
     "text": [
      "3\n",
      "8297\n"
     ]
    },
    {
     "data": {
      "image/png": "[encoded data removed]",
      "text/plain": [
       "<Figure size 288x288 with 1 Axes>"
      ]
     },
     "metadata": {
      "needs_background": "light"
     },
     "output_type": "display_data"
    }
   ],
   "source": [
    "#We will also create a numpy array with the graph to use it just with standard libraries\n",
    "\n",
    "#We first see that neither nodes are ordered nor posted as consecutive integer numbers \n",
    "nodes = np.array([node.GetId() for node in wiki_graph_sn.Nodes()])\n",
    "print(np.min(nodes))\n",
    "print(np.max(nodes))\n",
    "\n",
    "nodes = np.sort(nodes)\n",
    "\n",
    "wiki_mat = np.zeros([wiki_graph_sn.GetNodes(),wiki_graph_sn.GetNodes()],dtype=int)\n",
    "for edge in wiki_graph_sn.Edges():\n",
    "    i = np.where(nodes == edge.GetId()[0])\n",
    "    j = np.where(nodes == edge.GetId()[1])\n",
    "    wiki_mat[i,j] = 1\n",
    "\n",
    "plt.matshow(wiki_mat)\n",
    "plt.show()"
   ]
  },
  {
   "cell_type": "markdown",
   "metadata": {},
   "source": [
    "1. The number of nodes in the network. ($G_{small}$ has 3 nodes.)"
   ]
  },
  {
   "cell_type": "code",
   "execution_count": 5,
   "metadata": {},
   "outputs": [
    {
     "name": "stdout",
     "output_type": "stream",
     "text": [
      "The number of nodes is: 7115\n"
     ]
    }
   ],
   "source": [
    "# With the snap library\n",
    "\n",
    "n_nodes = wiki_graph_sn.GetNodes()\n",
    "print('The number of nodes is: %i' %n_nodes)"
   ]
  },
  {
   "cell_type": "code",
   "execution_count": 6,
   "metadata": {},
   "outputs": [
    {
     "name": "stdout",
     "output_type": "stream",
     "text": [
      "The number of nodes is: 7115\n"
     ]
    }
   ],
   "source": [
    "# With the networkX library\n",
    "\n",
    "n_nodes = wiki_graph_nx.number_of_nodes()\n",
    "print('The number of nodes is: %i' %n_nodes)"
   ]
  },
  {
   "cell_type": "code",
   "execution_count": 7,
   "metadata": {},
   "outputs": [
    {
     "name": "stdout",
     "output_type": "stream",
     "text": [
      "The number of nodes is: 7115\n"
     ]
    }
   ],
   "source": [
    "#With the adjacency matrix\n",
    "\n",
    "n_nodes = wiki_mat.shape[0]\n",
    "print('The number of nodes is: %i' %n_nodes)"
   ]
  },
  {
   "cell_type": "markdown",
   "metadata": {
    "pycharm": {
     "name": "#%% md\n"
    }
   },
   "source": [
    "2. The number of nodes with a self-edge (self-loop), i.e., the number of nodes $a \\in V$ where\n",
    "$(a, a) \\in E$. ($G_{small}$ has 1 self-edge.)"
   ]
  },
  {
   "cell_type": "code",
   "execution_count": 8,
   "metadata": {
    "pycharm": {
     "name": "#%%\n"
    }
   },
   "outputs": [
    {
     "name": "stdout",
     "output_type": "stream",
     "text": [
      "The number of self_loops is: 0\n"
     ]
    }
   ],
   "source": [
    "## With the snap library\n",
    "\n",
    "##Ruddimentary way\n",
    "#sel_loops = 0\n",
    "#for edge in wiki_graph_sn.Edges():\n",
    "#    if edge.GetId()[0]==edge.GetId()[1]:\n",
    "#        sel_loops += 1\n",
    "\n",
    "self_loops = wiki_graph_sn.CntSelfEdges()\n",
    "print('The number of self_loops is: %i' %self_loops)        "
   ]
  },
  {
   "cell_type": "code",
   "execution_count": 9,
   "metadata": {},
   "outputs": [
    {
     "name": "stdout",
     "output_type": "stream",
     "text": [
      "The number of self_loops is: 0\n"
     ]
    }
   ],
   "source": [
    "## With the networkX library\n",
    "\n",
    "loops = list(nx.selfloop_edges(wiki_graph_nx)) #we get the loop edges\n",
    "print('The number of self_loops is: %i' %len(loops))     "
   ]
  },
  {
   "cell_type": "code",
   "execution_count": 10,
   "metadata": {},
   "outputs": [
    {
     "name": "stdout",
     "output_type": "stream",
     "text": [
      "The number of self_loops is: 0\n"
     ]
    }
   ],
   "source": [
    "#With the adjacency matrix\n",
    "\n",
    "self_loops = int(np.sum(np.diag(wiki_mat)))\n",
    "print('The number of self_loops is: %i' %self_loops)"
   ]
  },
  {
   "cell_type": "markdown",
   "metadata": {},
   "source": [
    "3. The number of directed edges in the network, i.e., the number of ordered pairs $(a, b) \\in E$\n",
    "for which $a \\neq b$. ($G_{small}$ has 3 directed edges.)"
   ]
  },
  {
   "cell_type": "code",
   "execution_count": 11,
   "metadata": {
    "pycharm": {
     "name": "#%%\n"
    }
   },
   "outputs": [
    {
     "name": "stdout",
     "output_type": "stream",
     "text": [
      "The number of directed edges is: 103689\n"
     ]
    }
   ],
   "source": [
    "## With the snap library\n",
    "\n",
    "directed_edges = wiki_graph_sn.GetEdges() - self_loops\n",
    "print('The number of directed edges is: %i' %directed_edges)"
   ]
  },
  {
   "cell_type": "code",
   "execution_count": 12,
   "metadata": {},
   "outputs": [
    {
     "name": "stdout",
     "output_type": "stream",
     "text": [
      "The number of directed edges is: 103689\n"
     ]
    }
   ],
   "source": [
    "## With the networkX library\n",
    "\n",
    "directed_edges = wiki_graph_nx.number_of_edges() - len(loops)\n",
    "print('The number of directed edges is: %i' %directed_edges)"
   ]
  },
  {
   "cell_type": "code",
   "execution_count": 13,
   "metadata": {},
   "outputs": [
    {
     "name": "stdout",
     "output_type": "stream",
     "text": [
      "The number of directed edges is: 103689\n"
     ]
    }
   ],
   "source": [
    "#With the adjacency matrix\n",
    "\n",
    "directed_edges = np.sum(wiki_mat) - self_loops\n",
    "print('The number of directed edges is: %i' %directed_edges)"
   ]
  },
  {
   "cell_type": "markdown",
   "metadata": {},
   "source": [
    "4. The number of undirected edges in the network, i.e., the number of unique unordered pairs\n",
    "$(a, b),\\ a \\neq b$, for which $(a, b) \\in E$ or $(b, a) \\in E$ (or both). If both $(a, b)$ and $(b, a)$ are edges,\n",
    "this counts a single undirected edge. ($G_{small}$ has 2 undirected edges.)"
   ]
  },
  {
   "cell_type": "code",
   "execution_count": 14,
   "metadata": {
    "pycharm": {
     "name": "#%%\n"
    }
   },
   "outputs": [
    {
     "name": "stdout",
     "output_type": "stream",
     "text": [
      "Nodes in the directec graph: 103689\n",
      "Nodes in the undirectec graph: 201524\n",
      "One-way nodes in the directec graph: 97835\n",
      "\n",
      " Undirected edges: 100762\n"
     ]
    }
   ],
   "source": [
    "## With the snap library\n",
    "\n",
    "undir_wiki_graph_sn = wiki_graph_sn.GetUnDir() #Create de undirected graph related to the original\n",
    "\n",
    "edges_undir = undir_wiki_graph_sn.GetEdges()\n",
    "edges_dir = wiki_graph_sn.GetEdges()\n",
    "\n",
    "single_edges =  edges_undir - edges_dir\n",
    "\n",
    "print('Nodes in the directec graph: %i' %edges_dir)\n",
    "print('Nodes in the undirectec graph: %i' %edges_undir)\n",
    "print('One-way nodes in the directec graph: %i' %single_edges)\n",
    "\n",
    "undirected_edges = (edges_dir-single_edges)/2 + single_edges\n",
    "print('\\n Undirected edges: %i' %undirected_edges)"
   ]
  },
  {
   "cell_type": "code",
   "execution_count": 15,
   "metadata": {},
   "outputs": [
    {
     "name": "stdout",
     "output_type": "stream",
     "text": [
      "Nodes in the directec graph: 103689\n",
      "Nodes in the undirectec graph: 201524\n",
      "One-way nodes in the directec graph: 97835\n",
      "\n",
      " Undirected edges: 100762\n"
     ]
    }
   ],
   "source": [
    "## With the networkX library\n",
    "\n",
    "undir_wiki_graph_nx = wiki_graph_nx.to_undirected() #Create de undirected graph related to the original\n",
    "\n",
    "edges_undir = 2 * undir_wiki_graph_nx.number_of_edges() #Careful! edges in the undirected graph are counted once\n",
    "edges_dir = wiki_graph_nx.number_of_edges()\n",
    "\n",
    "single_edges =  edges_undir - edges_dir\n",
    "\n",
    "print('Nodes in the directec graph: %i' %edges_dir)\n",
    "print('Nodes in the undirectec graph: %i' %edges_undir)\n",
    "print('One-way nodes in the directec graph: %i' %single_edges)\n",
    "\n",
    "undirected_edges = (edges_dir - single_edges)/2 + single_edges\n",
    "print('\\n Undirected edges: %i' %undirected_edges)"
   ]
  },
  {
   "cell_type": "code",
   "execution_count": 16,
   "metadata": {},
   "outputs": [
    {
     "name": "stdout",
     "output_type": "stream",
     "text": [
      "Nodes in the directec graph: 103689\n",
      "Nodes in the undirectec graph: 201524\n",
      "One-way nodes in the directec graph: 97835\n",
      "\n",
      " Undirected edges: 100762\n"
     ]
    }
   ],
   "source": [
    "## With the adjacency matrix\n",
    "\n",
    "undir_wiki_mat = 1*((wiki_mat.T + wiki_mat)>0) #simply summing the adjacency matrix and its transpose we get positive values in each egde in both ways\n",
    "\n",
    "edges_undir = np.sum(undir_wiki_mat)\n",
    "edges_dir = np.sum(wiki_mat)\n",
    "\n",
    "single_edges =  edges_undir - edges_dir\n",
    "\n",
    "print('Nodes in the directec graph: %i' %edges_dir)\n",
    "print('Nodes in the undirectec graph: %i' %edges_undir)\n",
    "print('One-way nodes in the directec graph: %i' %single_edges)\n",
    "\n",
    "undirected_edges = (edges_dir - single_edges)/2 + single_edges\n",
    "print('\\n Undirected edges: %i' %undirected_edges)"
   ]
  },
  {
   "cell_type": "markdown",
   "metadata": {
    "pycharm": {
     "name": "#%% md\n"
    }
   },
   "source": [
    "5. The number of reciprocated edges in the network, i.e., the number of unique unordered\n",
    "pairs of nodes $(a, b),\\ a \\neq b$, for which $(a, b) \\in E$ and $(b, a) \\in E$. ($G_{small}$ has 1 reciprocated\n",
    "edge.)"
   ]
  },
  {
   "cell_type": "code",
   "execution_count": 17,
   "metadata": {
    "pycharm": {
     "name": "#%%\n"
    }
   },
   "outputs": [
    {
     "name": "stdout",
     "output_type": "stream",
     "text": [
      "Reciprocated edges: 2927\n"
     ]
    }
   ],
   "source": [
    "# With any method and the calculation above\n",
    "\n",
    "reciprocated_edges = (edges_dir-single_edges)/2\n",
    "print('Reciprocated edges: %i' %reciprocated_edges)"
   ]
  },
  {
   "cell_type": "markdown",
   "metadata": {
    "pycharm": {
     "name": "#%% md\n"
    }
   },
   "source": [
    "6. The number of nodes of zero out-degree. ($G_{small}$ has 1 node with zero out-degree.)"
   ]
  },
  {
   "cell_type": "code",
   "execution_count": 18,
   "metadata": {},
   "outputs": [
    {
     "name": "stdout",
     "output_type": "stream",
     "text": [
      "Zero out-degree nodes: 1005\n"
     ]
    }
   ],
   "source": [
    "## With the snap library\n",
    "\n",
    "zero_out_nodes = wiki_graph_sn.CntOutDegNodes(0)\n",
    "print('Zero out-degree nodes: %i' %zero_out_nodes)"
   ]
  },
  {
   "cell_type": "code",
   "execution_count": 19,
   "metadata": {},
   "outputs": [
    {
     "name": "stdout",
     "output_type": "stream",
     "text": [
      "Zero out-degree nodes: 1005\n"
     ]
    }
   ],
   "source": [
    "## With the networkX library\n",
    "\n",
    "out_deg = dict(wiki_graph_nx.out_degree)\n",
    "zero_out_nodes = np.sum(np.array(list(out_deg.values()))==0)\n",
    "print('Zero out-degree nodes: %i' %zero_out_nodes)"
   ]
  },
  {
   "cell_type": "code",
   "execution_count": 20,
   "metadata": {
    "pycharm": {
     "name": "#%%\n"
    }
   },
   "outputs": [
    {
     "name": "stdout",
     "output_type": "stream",
     "text": [
      "Zero out-degree nodes: 1005\n"
     ]
    }
   ],
   "source": [
    "## With the adjacency matrix\n",
    "\n",
    "out_deg = np.sum(wiki_mat,axis=1) #K_out\n",
    "zero_out_nodes = np.sum(out_deg==0)\n",
    "print('Zero out-degree nodes: %i' %zero_out_nodes)"
   ]
  },
  {
   "cell_type": "markdown",
   "metadata": {},
   "source": [
    "7. The number of nodes of zero in-degree. ($G_{small}$ has 1 node with zero in-degree.)"
   ]
  },
  {
   "cell_type": "code",
   "execution_count": 21,
   "metadata": {},
   "outputs": [
    {
     "name": "stdout",
     "output_type": "stream",
     "text": [
      "Zero in-degree nodes: 4734\n"
     ]
    }
   ],
   "source": [
    "## With the snap library\n",
    "\n",
    "zero_in_nodes = wiki_graph_sn.CntInDegNodes(0)\n",
    "print('Zero in-degree nodes: %i' %zero_in_nodes)"
   ]
  },
  {
   "cell_type": "code",
   "execution_count": 22,
   "metadata": {},
   "outputs": [
    {
     "name": "stdout",
     "output_type": "stream",
     "text": [
      "Zero in-degree nodes: 4734\n"
     ]
    }
   ],
   "source": [
    "## With the networkX library\n",
    "\n",
    "in_deg = dict(wiki_graph_nx.in_degree)\n",
    "zero_in_nodes = np.sum(np.array(list(in_deg.values()))==0)\n",
    "print('Zero in-degree nodes: %i' %zero_in_nodes)"
   ]
  },
  {
   "cell_type": "code",
   "execution_count": 23,
   "metadata": {
    "pycharm": {
     "name": "#%%\n"
    }
   },
   "outputs": [
    {
     "name": "stdout",
     "output_type": "stream",
     "text": [
      "Zero in-degree nodes: 4734\n"
     ]
    }
   ],
   "source": [
    "## With the adjacency matrix\n",
    "\n",
    "in_deg = np.sum(wiki_mat,axis=0) #K_in\n",
    "zero_in_nodes = np.sum(in_deg==0)\n",
    "print('Zero in-degree nodes: %i' %zero_in_nodes)"
   ]
  },
  {
   "cell_type": "markdown",
   "metadata": {},
   "source": [
    "8. The number of nodes with more than 10 outgoing edges (out-degree > 10)."
   ]
  },
  {
   "cell_type": "code",
   "execution_count": 24,
   "metadata": {},
   "outputs": [
    {
     "name": "stdout",
     "output_type": "stream",
     "text": [
      "Nodes with more than 10 outgoing edges: 1612\n"
     ]
    }
   ],
   "source": [
    "## With the snap library\n",
    "\n",
    "ten_out_nodes = 0\n",
    "for item in wiki_graph_sn.GetOutDegCnt():\n",
    "    if item.GetVal1() > 10:\n",
    "        ten_out_nodes += item.GetVal2()\n",
    "print('Nodes with more than 10 outgoing edges: %i' %ten_out_nodes)\n"
   ]
  },
  {
   "cell_type": "code",
   "execution_count": 25,
   "metadata": {},
   "outputs": [
    {
     "name": "stdout",
     "output_type": "stream",
     "text": [
      "Nodes with more than 10 outgoing edges: 1612\n"
     ]
    }
   ],
   "source": [
    "## With the networkX library\n",
    "\n",
    "out_deg = dict(wiki_graph_nx.out_degree)\n",
    "ten_out_nodes = np.sum(np.array(list(out_deg.values()))>10)\n",
    "print('Nodes with more than 10 outgoing edges: %i' %ten_out_nodes)"
   ]
  },
  {
   "cell_type": "code",
   "execution_count": 26,
   "metadata": {
    "pycharm": {
     "name": "#%%\n"
    }
   },
   "outputs": [
    {
     "name": "stdout",
     "output_type": "stream",
     "text": [
      "Nodes with more than 10 outgoing edges: 1612\n"
     ]
    }
   ],
   "source": [
    "## With the adjacency matrix\n",
    "\n",
    "out_deg = np.sum(wiki_mat,axis=1) #K_out\n",
    "ten_out_nodes = np.sum(out_deg>10)\n",
    "print('Nodes with more than 10 outgoing edges: %i' %ten_out_nodes)"
   ]
  },
  {
   "cell_type": "markdown",
   "metadata": {},
   "source": [
    "9. The number of nodes with fewer than 10 incoming edges (in-degree < 10)."
   ]
  },
  {
   "cell_type": "code",
   "execution_count": 27,
   "metadata": {},
   "outputs": [
    {
     "name": "stdout",
     "output_type": "stream",
     "text": [
      "Nodes with less than 10 ingoing edges: 5165\n"
     ]
    }
   ],
   "source": [
    "## With the snap library\n",
    "\n",
    "ten_in_nodes = 0\n",
    "for item in wiki_graph_sn.GetInDegCnt():\n",
    "    if item.GetVal1() < 10:\n",
    "        ten_in_nodes += item.GetVal2()\n",
    "print('Nodes with less than 10 ingoing edges: %i' %ten_in_nodes)"
   ]
  },
  {
   "cell_type": "code",
   "execution_count": 28,
   "metadata": {},
   "outputs": [
    {
     "name": "stdout",
     "output_type": "stream",
     "text": [
      "Nodes with less than 10 ingoing edges: 5165\n"
     ]
    }
   ],
   "source": [
    "## With the networkX library\n",
    "\n",
    "in_deg = dict(wiki_graph_nx.in_degree)\n",
    "ten_in_nodes = np.sum(np.array(list(in_deg.values()))<10)\n",
    "print('Nodes with less than 10 ingoing edges: %i' %ten_in_nodes)"
   ]
  },
  {
   "cell_type": "code",
   "execution_count": 29,
   "metadata": {
    "pycharm": {
     "name": "#%%\n"
    }
   },
   "outputs": [
    {
     "name": "stdout",
     "output_type": "stream",
     "text": [
      "Nodes with less than 10 ingoing edges: 5165\n"
     ]
    }
   ],
   "source": [
    "## With the adjacency matrix\n",
    "\n",
    "in_deg = np.sum(wiki_mat,axis=0) #K_in\n",
    "ten_in_nodes = np.sum(in_deg<10)\n",
    "print('Nodes with less than 10 ingoing edges: %i' %ten_in_nodes)"
   ]
  },
  {
   "cell_type": "markdown",
   "metadata": {},
   "source": [
    "### Question 2. Further Analyzing the Wikipedia voters network\n",
    "\n",
    "For this problem, we use the Wikipedia voters network. If you are using Python, you might\n",
    "want to use <code>NumPy, SciPy</code>, and/or <code>Matplotlib</code>libraries."
   ]
  },
  {
   "cell_type": "markdown",
   "metadata": {
    "pycharm": {
     "name": "#%% md\n"
    }
   },
   "source": [
    "1. Plot the distribution of out-degrees of nodes in the network on a log-log scale.\n",
    "Each data point is a pair $(x, y)$ where $x$ is a positive integer and $y$ is the number of nodes\n",
    "in the network with out-degree equal to $x$. Restrict the range of $x$ between the minimum\n",
    "and maximum out-degrees. You may filter out data points with a 0 entry. For the log-log\n",
    "scale, use base 10 for both $x$ and $y$ axes."
   ]
  },
  {
   "cell_type": "code",
   "execution_count": 30,
   "metadata": {},
   "outputs": [
    {
     "data": {
      "image/png": "[encoded data removed]",
      "text/plain": [
       "<Figure size 432x288 with 1 Axes>"
      ]
     },
     "metadata": {
      "needs_background": "light"
     },
     "output_type": "display_data"
    }
   ],
   "source": [
    "## With the snap library\n",
    "\n",
    "degrees = []\n",
    "for item in wiki_graph_sn.GetNodeOutDegV():\n",
    "    degrees.append(item.GetVal2())\n",
    "degrees = np.array(degrees) \n",
    "degrees = degrees[degrees>0] #filter out data points with a 0 entry\n",
    "data = Counter(degrees)\n",
    "x = np.log10(list(data.keys()))\n",
    "y = np.log10(list(data.values()))\n",
    "\n",
    "plt.scatter(x,y)\n",
    "plt.show()"
   ]
  },
  {
   "cell_type": "code",
   "execution_count": 31,
   "metadata": {},
   "outputs": [
    {
     "data": {
      "image/png": "[encoded data removed]",
      "text/plain": [
       "<Figure size 432x288 with 1 Axes>"
      ]
     },
     "metadata": {
      "needs_background": "light"
     },
     "output_type": "display_data"
    }
   ],
   "source": [
    "## With the networkX library\n",
    "\n",
    "out_deg = dict(wiki_graph_nx.out_degree()) #dictionary {node: out_degree}\n",
    "degrees = np.array(list(out_deg.values())) # list of all out degrees\n",
    "degrees = degrees[degrees>0] #filter out data points with a 0 entry\n",
    "data = Counter(degrees)\n",
    "x = np.log10(list(data.keys()))\n",
    "y = np.log10(list(data.values()))\n",
    "\n",
    "plt.scatter(x,y)\n",
    "plt.show()"
   ]
  },
  {
   "cell_type": "code",
   "execution_count": 32,
   "metadata": {},
   "outputs": [
    {
     "data": {
      "image/png": "[encoded data removed]",
      "text/plain": [
       "<Figure size 432x288 with 1 Axes>"
      ]
     },
     "metadata": {
      "needs_background": "light"
     },
     "output_type": "display_data"
    }
   ],
   "source": [
    "## With the adjacency matrix\n",
    "\n",
    "degrees = np.sum(wiki_mat,axis=1) #K_out\n",
    "\n",
    "degrees = degrees[degrees>0] #filter out data points with a 0 entry\n",
    "data = Counter(degrees)\n",
    "x = np.log10(list(data.keys()))\n",
    "y = np.log10(list(data.values()))\n",
    "\n",
    "plt.scatter(x,y)\n",
    "plt.show()"
   ]
  },
  {
   "cell_type": "markdown",
   "metadata": {
    "pycharm": {
     "name": "#%% md\n"
    }
   },
   "source": [
    "2. Compute and plot the least-square regression line for the out-degree distribution\n",
    "in the log-log scale plot. Note we want to find coefficients $a$ and $b$ such that the function\n",
    "$\\log_{10} y = a \\cdot \\log_{10} x + b$, equivalently, $y = 10^b \\cdot x^a$, best fits the out-degree distribution.\n",
    "What are the coefficients $a$ and $b$? For this part, you might want to use the method called\n",
    "polyfit in NumPy with deg parameter equal to 1."
   ]
  },
  {
   "cell_type": "code",
   "execution_count": 33,
   "metadata": {},
   "outputs": [
    {
     "name": "stdout",
     "output_type": "stream",
     "text": [
      "The result for the regression is,\n",
      " slope:    -1.281 \n",
      " intercept: 3.132\n"
     ]
    },
    {
     "data": {
      "image/png": "[encoded data removed]",
      "text/plain": [
       "<Figure size 432x288 with 1 Axes>"
      ]
     },
     "metadata": {
      "needs_background": "light"
     },
     "output_type": "display_data"
    }
   ],
   "source": [
    "# With any method and the calculation above\n",
    "\n",
    "z = np.polyfit(x, y, 1)\n",
    "print('The result for the regression is,\\n slope:    %0.3f \\n intercept: %0.3f' %tuple(z))\n",
    "\n",
    "plt.scatter(x,y)\n",
    "plt.plot(np.sort(x),z[0]*np.sort(x)+z[1],'r')\n",
    "plt.show()"
   ]
  },
  {
   "cell_type": "markdown",
   "metadata": {},
   "source": [
    "### Question 3. Finding Experts on the Java Programming Language on\n",
    "StackOverflow\n",
    "\n",
    "Download the StackOverflow network [stackoverflow-Java.txt.gz](http://snap.stanford.edu/class/cs224w-data/hw0/stackoverflow-Java.txt.gz). An edge $(a, b)$ in the network\n",
    "means that person $a$ endorsed an answer from person $b$ on a Java-related question.\n",
    "\n",
    "Using one of the network analysis tools above, load the StackOverflow network. Note that\n",
    "StackOverflow is a directed network.\n",
    "\n",
    "Compute and print out the following statistics for the stackoverflow-Java network:"
   ]
  },
  {
   "cell_type": "code",
   "execution_count": 34,
   "metadata": {
    "pycharm": {
     "name": "#%%\n"
    }
   },
   "outputs": [],
   "source": [
    "# With the snap library\n",
    "stack_graph_sn = snap.LoadEdgeList(snap.TNGraph, \"stackoverflow-Java.txt\", 0, 1)\n",
    "\n",
    "# With the networkx library\n",
    "stack_graph_nx = nx.read_edgelist(\"stackoverflow-Java.txt\",create_using = nx.DiGraph(), nodetype = int)\n"
   ]
  },
  {
   "cell_type": "markdown",
   "metadata": {},
   "source": [
    "1. The number of weakly connected components in the network. This value can be calculated\n",
    "in Snap.py via function GetWccs."
   ]
  },
  {
   "cell_type": "code",
   "execution_count": 35,
   "metadata": {},
   "outputs": [
    {
     "name": "stdout",
     "output_type": "stream",
     "text": [
      "Number of weakly connected components is: 10143\n"
     ]
    }
   ],
   "source": [
    "## With the snap library\n",
    "\n",
    "n_Wcc=0\n",
    "for i in stack_graph_sn.GetWccs():\n",
    "    n_Wcc += 1\n",
    "print('Number of weakly connected components is: %i' %n_Wcc) "
   ]
  },
  {
   "cell_type": "code",
   "execution_count": 36,
   "metadata": {},
   "outputs": [
    {
     "name": "stdout",
     "output_type": "stream",
     "text": [
      "Number of weakly connected components is: 10143\n"
     ]
    }
   ],
   "source": [
    "## With the networkX library\n",
    "\n",
    "n_Wcc = nx.number_weakly_connected_components(stack_graph_nx)\n",
    "print('Number of weakly connected components is: %i' %n_Wcc) "
   ]
  },
  {
   "cell_type": "markdown",
   "metadata": {
    "pycharm": {
     "name": "#%% md\n"
    }
   },
   "source": [
    "2. The number of edges and the number of nodes in the largest weakly connected component.\n",
    "The largest weakly connected component is calculated in Snap.py with function GetMxWcc."
   ]
  },
  {
   "cell_type": "code",
   "execution_count": 37,
   "metadata": {},
   "outputs": [
    {
     "name": "stdout",
     "output_type": "stream",
     "text": [
      "The the largest weakly connected component has 131188 nodes and 322486 edges.\n"
     ]
    }
   ],
   "source": [
    "## With the snap library\n",
    "\n",
    "larg_Wcc = stack_graph_sn.GetMxWcc()\n",
    "n_nodes_Larg_Wcc = larg_Wcc.GetNodes()\n",
    "n_edges_Larg_Wcc = larg_Wcc.GetEdges()\n",
    "\n",
    "print('The the largest weakly connected component has %i nodes and %i edges.' %(n_nodes_Larg_Wcc,n_edges_Larg_Wcc))"
   ]
  },
  {
   "cell_type": "code",
   "execution_count": 38,
   "metadata": {},
   "outputs": [
    {
     "name": "stdout",
     "output_type": "stream",
     "text": [
      "The the largest weakly connected component has 131188 nodes and 322486 edges.\n"
     ]
    }
   ],
   "source": [
    "## With the networkX library\n",
    "\n",
    "larg_Wcc = max(nx.weakly_connected_components(stack_graph_nx),key=len)\n",
    "n_nodes_Larg_Wcc = len(larg_Wcc)\n",
    "Wcc_subgraph = stack_graph_nx.subgraph(max(nx.weakly_connected_components(stack_graph_nx)))\n",
    "n_edges_Larg_Wcc = nx.number_of_edges(Wcc_subgraph)\n",
    "\n",
    "print('The the largest weakly connected component has %i nodes and %i edges.' %(n_nodes_Larg_Wcc,n_edges_Larg_Wcc))\n",
    "\n"
   ]
  },
  {
   "cell_type": "markdown",
   "metadata": {
    "pycharm": {
     "name": "#%% md\n"
    }
   },
   "source": [
    "3. IDs of the top 3 most central nodes in the network by PagePank scores. PageRank scores\n",
    "are calculated in Snap.py with function GetPageRank."
   ]
  },
  {
   "cell_type": "code",
   "execution_count": 39,
   "metadata": {},
   "outputs": [
    {
     "name": "stdout",
     "output_type": "stream",
     "text": [
      "The three most central nodes in the network by PagePank scores are:\n",
      "  Node 992484 with a score of 0.013980540\n",
      "  Node 135152 with a score of 0.010005539\n",
      "  Node 22656 with a score of 0.007103533\n"
     ]
    }
   ],
   "source": [
    "## With the snap library\n",
    "\n",
    "PRankH = stack_graph_sn.GetPageRank() #dict node: PRank_score;  Default options: C=0.85, Eps=0.0001, MaxIter=100 \n",
    "scores = np.array(list(dict(PRankH).values()))\n",
    "nodes = np.array(list(dict(PRankH).keys()))\n",
    "\n",
    "positions = scores.argsort()[-3:][::-1] # We select the three bigest (selecting the last 3) and we reverse them [::-1]\n",
    "nodes[positions]\n",
    "print('The three most central nodes in the network by PagePank scores are:')\n",
    "for i in positions:\n",
    "    print('  Node %i with a score of %0.9f' %(nodes[i],scores[i]))"
   ]
  },
  {
   "cell_type": "code",
   "execution_count": 40,
   "metadata": {},
   "outputs": [
    {
     "name": "stdout",
     "output_type": "stream",
     "text": [
      "The three most central nodes in the network by PagePank scores are:\n",
      "  Node 22656 with a score of 0.007717139\n",
      "  Node 157882 with a score of 0.005653757\n",
      "  Node 571407 with a score of 0.005147897\n"
     ]
    }
   ],
   "source": [
    "## With the networkX library (different tolerance)\n",
    "\n",
    "PRank = nx.pagerank(stack_graph_nx, tol=1e-4) #alpha=0.85, personalization=None, max_iter=100, tol=1e-06, nstart=None, weight='weight', dangling=None\n",
    "\n",
    "scores = np.array(list(dict(PRank).values()))\n",
    "nodes = np.array(list(dict(PRank).keys()))\n",
    "\n",
    "positions = scores.argsort()[-3:][::-1] # We select the three bigest (selecting the last 3) and we reverse them [::-1]\n",
    "nodes[positions]\n",
    "print('The three most central nodes in the network by PagePank scores are:')\n",
    "for i in positions:\n",
    "    print('  Node %i with a score of %0.9f' %(nodes[i],scores[i]))"
   ]
  },
  {
   "cell_type": "code",
   "execution_count": 41,
   "metadata": {},
   "outputs": [
    {
     "name": "stdout",
     "output_type": "stream",
     "text": [
      "The three most central nodes in the network by PagePank scores are:\n",
      "  Node 992484 with a score of 0.007854822\n",
      "  Node 22656 with a score of 0.007686203\n",
      "  Node 139985 with a score of 0.006191751\n"
     ]
    }
   ],
   "source": [
    "## With the networkX library\n",
    "\n",
    "PRank = nx.pagerank(stack_graph_nx, tol=1e-6) #alpha=0.85, personalization=None, max_iter=100, tol=1e-06, nstart=None, weight='weight', dangling=None\n",
    "\n",
    "scores = np.array(list(dict(PRank).values()))\n",
    "nodes = np.array(list(dict(PRank).keys()))\n",
    "\n",
    "positions = scores.argsort()[-3:][::-1] # We select the three bigest (selecting the last 3) and we reverse them [::-1]\n",
    "nodes[positions]\n",
    "print('The three most central nodes in the network by PagePank scores are:')\n",
    "for i in positions:\n",
    "    print('  Node %i with a score of %0.9f' %(nodes[i],scores[i]))"
   ]
  },
  {
   "cell_type": "markdown",
   "metadata": {
    "pycharm": {
     "name": "#%% md\n"
    }
   },
   "source": [
    "4. IDs of the top 3 hubs and top 3 authorities in the network by HITS scores. HITS scores\n",
    "are calculated in Snap.py with function GetHits."
   ]
  },
  {
   "cell_type": "code",
   "execution_count": 42,
   "metadata": {},
   "outputs": [],
   "source": [
    "def Dict_top_k_score(dictionary,k):\n",
    "    nodes = np.array(list(dictionary.keys()))\n",
    "    scores = np.array(list(dictionary.values()))\n",
    "    \n",
    "    positions = scores.argsort()[-k]\n",
    "    return nodes[positions],scores[positions]\n"
   ]
  },
  {
   "cell_type": "code",
   "execution_count": 43,
   "metadata": {},
   "outputs": [
    {
     "name": "stdout",
     "output_type": "stream",
     "text": [
      "The top 3 hubs are:\n",
      "  Node 892029 with a score of 0.073363804\n",
      "  Node 1194415 with a score of 0.059550744\n",
      "  Node 359862 with a score of 0.056875646\n",
      "\n",
      "The top 3 authors are:\n",
      "  Node 22656 with a score of 0.604723973\n",
      "  Node 157882 with a score of 0.298699349\n",
      "  Node 571407 with a score of 0.283907193\n"
     ]
    }
   ],
   "source": [
    "## With the snap library\n",
    "\n",
    "NIdHubH, NIdAuthH = stack_graph_sn.GetHits()\n",
    "\n",
    "print('The top 3 hubs are:')\n",
    "for i in range(1,4):\n",
    "    print('  Node %i with a score of %0.9f' %Dict_top_k_score(dict(NIdHubH),i))\n",
    "    \n",
    "print('\\nThe top 3 authors are:')\n",
    "for i in range(1,4):\n",
    "    print('  Node %i with a score of %0.9f' %Dict_top_k_score(dict(NIdAuthH),i))"
   ]
  },
  {
   "cell_type": "code",
   "execution_count": 44,
   "metadata": {},
   "outputs": [
    {
     "name": "stdout",
     "output_type": "stream",
     "text": [
      "The top 3 hubs are:\n",
      "  Node 892029 with a score of 0.000603874\n",
      "  Node 1194415 with a score of 0.000490176\n",
      "  Node 359862 with a score of 0.000468157\n",
      "\n",
      "The top 3 authors are:\n",
      "  Node 22656 with a score of 0.027003430\n",
      "  Node 157882 with a score of 0.013338124\n",
      "  Node 571407 with a score of 0.012677599\n"
     ]
    }
   ],
   "source": [
    "## With the networkX library\n",
    "\n",
    "Hubs, Authorities = nx.hits(stack_graph_nx)\n",
    "\n",
    "print('The top 3 hubs are:')\n",
    "for i in range(1,4):\n",
    "    print('  Node %i with a score of %0.9f' %Dict_top_k_score(Hubs,i))\n",
    "    \n",
    "print('\\nThe top 3 authors are:')\n",
    "for i in range(1,4):\n",
    "    print('  Node %i with a score of %0.9f' %Dict_top_k_score(Authorities,i))"
   ]
  }
 ],
 "metadata": {
  "kernelspec": {
   "display_name": "Python 3",
   "language": "python",
   "name": "python3"
  },
  "language_info": {
   "codemirror_mode": {
    "name": "ipython",
    "version": 3
   },
   "file_extension": ".py",
   "mimetype": "text/x-python",
   "name": "python",
   "nbconvert_exporter": "python",
   "pygments_lexer": "ipython3",
   "version": "3.9.1"
  }
 },
 "nbformat": 4,
 "nbformat_minor": 1
}
