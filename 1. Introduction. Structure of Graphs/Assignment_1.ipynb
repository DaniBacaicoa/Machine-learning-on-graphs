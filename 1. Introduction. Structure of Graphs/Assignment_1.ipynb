{
 "cells": [
  {
   "cell_type": "markdown",
   "metadata": {
    "pycharm": {
     "name": "#%% md\n"
    }
   },
   "source": [
    "# Machine learning with graphs\n",
    "\n",
    "## Homework 1\n",
    "\n",
    "Solution notebook for Homeworks proposed in the [MLG](http://jcid.webs.tsc.uc3m.es/machine-learning-group/) in the seminar of 2021 based on [Machine learning with graphs](http://snap.stanford.edu/class/cs224w-2019/) course by Standford university.\n",
    "\n",
    "    Author: Daniel Bacaicoa Barber"
   ]
  },
  {
   "cell_type": "code",
   "execution_count": 4,
   "metadata": {},
   "outputs": [],
   "source": [
    "#Importing needed libraries.\n",
    "import numpy as np\n",
    "import pandas as pd\n",
    "import scipy \n",
    "import snap"
   ]
  },
  {
   "cell_type": "markdown",
   "metadata": {
    "pycharm": {
     "name": "#%% md\n"
    }
   },
   "source": [
    "### Question 1. Analyzing the Wikipedia voters network\n",
    "\n",
    "Download the Wikipedia voting network [wiki-Vote.txt.gz](http://snap.stanford.edu/data/wiki-Vote.html).\n",
    "\n",
    "Using one of the network analysis tools above, load the Wikipedia voting network. Note that\n",
    "Wikipedia is a directed network. Formally, we consider the Wikipedia network as a directed\n",
    "graph $G = (V,E)$, with node set $V$ and edge set $E \\subset V \\times V$ where (edges are ordered pairs\n",
    "of nodes). An edge $(a, b) \\in E$ means that user $a$ voted on user $b$.\n",
    "\n",
    "To make our questions clearer, we will use the following small graph as a running example:\n",
    "$G_{small} = (V_{small}, E_{small})$, where $V_{small} = \\{1, 2, 3\\}$ and $E_{small} = \\{(1, 2), (2, 1), (1, 3), (1, 1)\\}$.\n",
    "\n",
    "Compute and print out the following statistics for the **wiki-Vote** network:"
   ]
  },
  {
   "cell_type": "code",
   "execution_count": 4,
   "metadata": {},
   "outputs": [
    {
     "ename": "SyntaxError",
     "evalue": "(unicode error) 'unicodeescape' codec can't decode bytes in position 2-3: truncated \\UXXXXXXXX escape (<ipython-input-4-535541061925>, line 1)",
     "output_type": "error",
     "traceback": [
      "\u001B[1;36m  File \u001B[1;32m\"<ipython-input-4-535541061925>\"\u001B[1;36m, line \u001B[1;32m1\u001B[0m\n\u001B[1;33m    data = pd.read_csv('C:\\Users\\Dani\\OneDrive\\MLG\\Session 1\\Wiki_Vote.txt', header = None)\u001B[0m\n\u001B[1;37m                       ^\u001B[0m\n\u001B[1;31mSyntaxError\u001B[0m\u001B[1;31m:\u001B[0m (unicode error) 'unicodeescape' codec can't decode bytes in position 2-3: truncated \\UXXXXXXXX escape\n"
     ]
    }
   ],
   "source": [
    "#Adapt this\n",
    "wiki_graph = snap.LoadEdgeList(snap.TNGraph, \"test.txt\", 0, 1)"
   ]
  },
  {
   "cell_type": "markdown",
   "metadata": {},
   "source": [
    "1. The number of nodes in the network. ($G_{small}$ has 3 nodes.)"
   ]
  },
  {
   "cell_type": "code",
   "execution_count": null,
   "metadata": {
    "pycharm": {
     "name": "#%%\n"
    }
   },
   "outputs": [],
   "source": [
    "#Your code here"
   ]
  },
  {
   "cell_type": "markdown",
   "metadata": {
    "pycharm": {
     "name": "#%% md\n"
    }
   },
   "source": [
    "2. The number of nodes with a self-edge (self-loop), i.e., the number of nodes $a \\in V$ where\n",
    "$(a, a) \\in E$. ($G_{small}$ has 1 self-edge.)"
   ]
  },
  {
   "cell_type": "code",
   "execution_count": null,
   "metadata": {
    "pycharm": {
     "name": "#%%\n"
    }
   },
   "outputs": [],
   "source": [
    "#Your code here"
   ]
  },
  {
   "cell_type": "markdown",
   "metadata": {},
   "source": [
    "3. The number of directed edges in the network, i.e., the number of ordered pairs $(a, b) \\in E$\n",
    "for which $a \\neq b$. ($G_{small}$ has 3 directed edges.)"
   ]
  },
  {
   "cell_type": "code",
   "execution_count": null,
   "metadata": {
    "pycharm": {
     "name": "#%%\n"
    }
   },
   "outputs": [],
   "source": [
    "#Your code here"
   ]
  },
  {
   "cell_type": "markdown",
   "metadata": {},
   "source": [
    "4. The number of undirected edges in the network, i.e., the number of unique unordered pairs\n",
    "$(a, b),\\ a \\neq b$, for which $(a, b) \\in E$ or $(b, a) \\in E$ (or both). If both $(a, b)$ and $(b, a)$ are edges,\n",
    "this counts a single undirected edge. ($G_{small}$ has 2 undirected edges.)"
   ]
  },
  {
   "cell_type": "code",
   "execution_count": null,
   "metadata": {
    "pycharm": {
     "name": "#%%\n"
    }
   },
   "outputs": [],
   "source": [
    "#Your code here"
   ]
  },
  {
   "cell_type": "markdown",
   "metadata": {
    "pycharm": {
     "name": "#%% md\n"
    }
   },
   "source": [
    "5. The number of reciprocated edges in the network, i.e., the number of unique unordered\n",
    "pairs of nodes $(a, b),\\ a \\neq b$, for which $(a, b) \\in E$ and $(b, a) \\in E$. ($G_{small}$ has 1 reciprocated\n",
    "edge.)"
   ]
  },
  {
   "cell_type": "code",
   "execution_count": null,
   "metadata": {
    "pycharm": {
     "name": "#%%\n"
    }
   },
   "outputs": [],
   "source": [
    "#Your code here"
   ]
  },
  {
   "cell_type": "markdown",
   "metadata": {
    "pycharm": {
     "name": "#%% md\n"
    }
   },
   "source": [
    "6. The number of nodes of zero out-degree. ($G_{small}$ has 1 node with zero out-degree.)"
   ]
  },
  {
   "cell_type": "code",
   "execution_count": null,
   "metadata": {
    "pycharm": {
     "name": "#%%\n"
    }
   },
   "outputs": [],
   "source": [
    "#Your code here"
   ]
  },
  {
   "cell_type": "markdown",
   "metadata": {},
   "source": [
    "7. The number of nodes of zero in-degree. ($G_{small}$ has 1 node with zero in-degree.)"
   ]
  },
  {
   "cell_type": "code",
   "execution_count": null,
   "metadata": {
    "pycharm": {
     "name": "#%%\n"
    }
   },
   "outputs": [],
   "source": [
    "#Your code here"
   ]
  },
  {
   "cell_type": "markdown",
   "metadata": {},
   "source": [
    "8. The number of nodes with more than 10 outgoing edges (out-degree > 10)."
   ]
  },
  {
   "cell_type": "code",
   "execution_count": null,
   "metadata": {
    "pycharm": {
     "name": "#%%\n"
    }
   },
   "outputs": [],
   "source": [
    "#Your code here"
   ]
  },
  {
   "cell_type": "markdown",
   "metadata": {},
   "source": [
    "9. The number of nodes with fewer than 10 incoming edges (in-degree < 10)."
   ]
  },
  {
   "cell_type": "code",
   "execution_count": null,
   "metadata": {
    "pycharm": {
     "name": "#%%\n"
    }
   },
   "outputs": [],
   "source": [
    "#Your code here\n"
   ]
  },
  {
   "cell_type": "markdown",
   "metadata": {},
   "source": [
    "### Question 2. Further Analyzing the Wikipedia voters network\n",
    "\n",
    "For this problem, we use the Wikipedia voters network. If you are using Python, you might\n",
    "want to use <code>NumPy, SciPy</code>, and/or <code>Matplotlib</code>libraries."
   ]
  },
  {
   "cell_type": "markdown",
   "metadata": {
    "pycharm": {
     "name": "#%% md\n"
    }
   },
   "source": [
    "1. Plot the distribution of out-degrees of nodes in the network on a log-log scale.\n",
    "Each data point is a pair $(x, y)$ where $x$ is a positive integer and $y$ is the number of nodes\n",
    "in the network with out-degree equal to $x$. Restrict the range of $x$ between the minimum\n",
    "and maximum out-degrees. You may filter out data points with a 0 entry. For the log-log\n",
    "scale, use base 10 for both $x$ and $y$ axes."
   ]
  },
  {
   "cell_type": "code",
   "execution_count": null,
   "metadata": {
    "pycharm": {
     "name": "#%%"
    }
   },
   "outputs": [],
   "source": [
    "#Your code here"
   ]
  },
  {
   "cell_type": "markdown",
   "metadata": {
    "pycharm": {
     "name": "#%% md\n"
    }
   },
   "source": [
    "2. Compute and plot the least-square regression line for the out-degree distribution\n",
    "in the log-log scale plot. Note we want to find coefficients $a$ and $b$ such that the function\n",
    "$\\log_{10} y = a \\cdot \\log_{10} x + b$, equivalently, $y = 10^b \\cdot x^a$, best fits the out-degree distribution.\n",
    "What are the coefficients $a$ and $b$? For this part, you might want to use the method called\n",
    "polyfit in NumPy with deg parameter equal to 1."
   ]
  },
  {
   "cell_type": "markdown",
   "metadata": {},
   "source": [
    "#Your code here\n"
   ]
  },
  {
   "cell_type": "markdown",
   "metadata": {},
   "source": [
    "### Question 3. Finding Experts on the Java Programming Language on\n",
    "StackOverflow\n",
    "\n",
    "Download the StackOverflow network [stackoverflow-Java.txt.gz](http://snap.stanford.\n",
    "edu/class/cs224w-data/hw0/stackoverflow-Java.txt.gz). An edge $(a, b)$ in the network\n",
    "means that person $a$ endorsed an answer from person $b$ on a Java-related question.\n",
    "\n",
    "Using one of the network analysis tools above, load the StackOverflow network. Note that\n",
    "StackOverflow is a directed network.\n",
    "\n",
    "Compute and print out the following statistics for the stackoverflow-Java network:"
   ]
  },
  {
   "cell_type": "markdown",
   "metadata": {},
   "source": [
    "1. The number of weakly connected components in the network. This value can be calculated\n",
    "in Snap.py via function GetWccs."
   ]
  },
  {
   "cell_type": "code",
   "execution_count": null,
   "metadata": {
    "pycharm": {
     "name": "#%%\n"
    }
   },
   "outputs": [],
   "source": [
    "#Your code here"
   ]
  },
  {
   "cell_type": "markdown",
   "metadata": {
    "pycharm": {
     "name": "#%% md\n"
    }
   },
   "source": [
    "2. The number of edges and the number of nodes in the largest weakly connected component.\n",
    "The largest weakly connected component is calculated in Snap.py with function GetMxWcc."
   ]
  },
  {
   "cell_type": "code",
   "execution_count": null,
   "metadata": {
    "pycharm": {
     "name": "#%%\n"
    }
   },
   "outputs": [],
   "source": [
    "#Your code here"
   ]
  },
  {
   "cell_type": "markdown",
   "metadata": {
    "pycharm": {
     "name": "#%% md\n"
    }
   },
   "source": [
    "3. IDs of the top 3 most central nodes in the network by PagePank scores. PageRank scores\n",
    "are calculated in Snap.py with function GetPageRank."
   ]
  },
  {
   "cell_type": "code",
   "execution_count": null,
   "metadata": {
    "pycharm": {
     "name": "#%%\n"
    }
   },
   "outputs": [],
   "source": [
    "#Your code here"
   ]
  },
  {
   "cell_type": "markdown",
   "metadata": {
    "pycharm": {
     "name": "#%% md\n"
    }
   },
   "source": [
    "4. IDs of the top 3 hubs and top 3 authorities in the network by HITS scores. HITS scores\n",
    "are calculated in Snap.py with function GetHits."
   ]
  },
  {
   "cell_type": "code",
   "execution_count": null,
   "metadata": {},
   "outputs": [],
   "source": [
    "#Your code here"
   ]
  }
 ],
 "metadata": {
  "kernelspec": {
   "display_name": "Python 3",
   "language": "python",
   "name": "python3"
  },
  "language_info": {
   "codemirror_mode": {
    "name": "ipython",
    "version": 3
   },
   "file_extension": ".py",
   "mimetype": "text/x-python",
   "name": "python",
   "nbconvert_exporter": "python",
   "pygments_lexer": "ipython3",
   "version": "3.8.5"
  }
 },
 "nbformat": 4,
 "nbformat_minor": 1
}
